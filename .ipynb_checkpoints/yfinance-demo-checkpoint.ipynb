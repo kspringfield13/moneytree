{
 "cells": [
  {
   "cell_type": "code",
   "execution_count": 8,
   "id": "norman-salad",
   "metadata": {},
   "outputs": [],
   "source": [
    "import datetime\n",
    "import yfinance as yf"
   ]
  },
  {
   "cell_type": "code",
   "execution_count": 57,
   "id": "earned-validity",
   "metadata": {},
   "outputs": [
    {
     "data": {
      "text/plain": [
       "yfinance.Ticker object <NYCB>"
      ]
     },
     "execution_count": 57,
     "metadata": {},
     "output_type": "execute_result"
    }
   ],
   "source": [
    "nycb = yf.Ticker(\"nycb\")\n",
    "nycb"
   ]
  },
  {
   "cell_type": "code",
   "execution_count": 58,
   "id": "obvious-gregory",
   "metadata": {},
   "outputs": [
    {
     "data": {
      "text/plain": [
       "7.1597223"
      ]
     },
     "execution_count": 58,
     "metadata": {},
     "output_type": "execute_result"
    }
   ],
   "source": [
    "nycb.info['forwardPE']"
   ]
  },
  {
   "cell_type": "code",
   "execution_count": 59,
   "id": "complimentary-event",
   "metadata": {},
   "outputs": [
    {
     "data": {
      "text/plain": [
       "0.68"
      ]
     },
     "execution_count": 59,
     "metadata": {},
     "output_type": "execute_result"
    }
   ],
   "source": [
    "nycb.info['dividendRate']"
   ]
  },
  {
   "cell_type": "code",
   "execution_count": 60,
   "id": "binary-behalf",
   "metadata": {},
   "outputs": [
    {
     "data": {
      "text/plain": [
       "7445366784"
      ]
     },
     "execution_count": 60,
     "metadata": {},
     "output_type": "execute_result"
    }
   ],
   "source": [
    "nycb.info['marketCap']"
   ]
  },
  {
   "cell_type": "code",
   "execution_count": 61,
   "id": "assigned-samuel",
   "metadata": {},
   "outputs": [
    {
     "data": {
      "text/plain": [
       "11.02"
      ]
     },
     "execution_count": 61,
     "metadata": {},
     "output_type": "execute_result"
    }
   ],
   "source": [
    "nycb.info[\"fiftyTwoWeekHigh\"]"
   ]
  },
  {
   "cell_type": "code",
   "execution_count": 70,
   "id": "olympic-anxiety",
   "metadata": {},
   "outputs": [
    {
     "data": {
      "text/plain": [
       "'Banks—Regional'"
      ]
     },
     "execution_count": 70,
     "metadata": {},
     "output_type": "execute_result"
    }
   ],
   "source": [
    "nycb.info[\"industry\"]"
   ]
  },
  {
   "cell_type": "code",
   "execution_count": 71,
   "id": "future-kitchen",
   "metadata": {},
   "outputs": [
    {
     "data": {
      "text/plain": [
       "9.2529"
      ]
     },
     "execution_count": 71,
     "metadata": {},
     "output_type": "execute_result"
    }
   ],
   "source": [
    "nycb.info[\"twoHundredDayAverage\"]"
   ]
  },
  {
   "cell_type": "code",
   "execution_count": 73,
   "id": "married-draft",
   "metadata": {},
   "outputs": [
    {
     "data": {
      "text/plain": [
       "0.0674"
      ]
     },
     "execution_count": 73,
     "metadata": {},
     "output_type": "execute_result"
    }
   ],
   "source": [
    "nycb.info[\"dividendYield\"]"
   ]
  },
  {
   "cell_type": "code",
   "execution_count": 74,
   "id": "municipal-maintenance",
   "metadata": {},
   "outputs": [
    {
     "data": {
      "text/plain": [
       "46722023"
      ]
     },
     "execution_count": 74,
     "metadata": {},
     "output_type": "execute_result"
    }
   ],
   "source": [
    "nycb.info[\"sharesShort\"]"
   ]
  },
  {
   "cell_type": "code",
   "execution_count": 75,
   "id": "cleared-convertible",
   "metadata": {},
   "outputs": [
    {
     "data": {
      "text/plain": [
       "0.0647"
      ]
     },
     "execution_count": 75,
     "metadata": {},
     "output_type": "execute_result"
    }
   ],
   "source": [
    "#short interest\n",
    "nycb.info[\"sharesPercentSharesOut\"]"
   ]
  },
  {
   "cell_type": "code",
   "execution_count": null,
   "id": "pleasant-column",
   "metadata": {},
   "outputs": [],
   "source": []
  },
  {
   "cell_type": "code",
   "execution_count": null,
   "id": "afraid-exhibit",
   "metadata": {},
   "outputs": [],
   "source": []
  },
  {
   "cell_type": "code",
   "execution_count": null,
   "id": "sporting-termination",
   "metadata": {},
   "outputs": [],
   "source": []
  },
  {
   "cell_type": "code",
   "execution_count": 64,
   "id": "adjusted-strategy",
   "metadata": {},
   "outputs": [
    {
     "data": {
      "text/html": [
       "<div>\n",
       "<style scoped>\n",
       "    .dataframe tbody tr th:only-of-type {\n",
       "        vertical-align: middle;\n",
       "    }\n",
       "\n",
       "    .dataframe tbody tr th {\n",
       "        vertical-align: top;\n",
       "    }\n",
       "\n",
       "    .dataframe thead th {\n",
       "        text-align: right;\n",
       "    }\n",
       "</style>\n",
       "<table border=\"1\" class=\"dataframe\">\n",
       "  <thead>\n",
       "    <tr style=\"text-align: right;\">\n",
       "      <th></th>\n",
       "      <th>0</th>\n",
       "      <th>1</th>\n",
       "    </tr>\n",
       "  </thead>\n",
       "  <tbody>\n",
       "    <tr>\n",
       "      <th>0</th>\n",
       "      <td>1.25%</td>\n",
       "      <td>% of Shares Held by All Insider</td>\n",
       "    </tr>\n",
       "    <tr>\n",
       "      <th>1</th>\n",
       "      <td>57.07%</td>\n",
       "      <td>% of Shares Held by Institutions</td>\n",
       "    </tr>\n",
       "    <tr>\n",
       "      <th>2</th>\n",
       "      <td>57.80%</td>\n",
       "      <td>% of Float Held by Institutions</td>\n",
       "    </tr>\n",
       "    <tr>\n",
       "      <th>3</th>\n",
       "      <td>621</td>\n",
       "      <td>Number of Institutions Holding Shares</td>\n",
       "    </tr>\n",
       "  </tbody>\n",
       "</table>\n",
       "</div>"
      ],
      "text/plain": [
       "        0                                      1\n",
       "0   1.25%        % of Shares Held by All Insider\n",
       "1  57.07%       % of Shares Held by Institutions\n",
       "2  57.80%        % of Float Held by Institutions\n",
       "3     621  Number of Institutions Holding Shares"
      ]
     },
     "execution_count": 64,
     "metadata": {},
     "output_type": "execute_result"
    }
   ],
   "source": [
    "nycb.major_holders"
   ]
  },
  {
   "cell_type": "code",
   "execution_count": 65,
   "id": "intended-multimedia",
   "metadata": {},
   "outputs": [
    {
     "data": {
      "text/html": [
       "<div>\n",
       "<style scoped>\n",
       "    .dataframe tbody tr th:only-of-type {\n",
       "        vertical-align: middle;\n",
       "    }\n",
       "\n",
       "    .dataframe tbody tr th {\n",
       "        vertical-align: top;\n",
       "    }\n",
       "\n",
       "    .dataframe thead th {\n",
       "        text-align: right;\n",
       "    }\n",
       "</style>\n",
       "<table border=\"1\" class=\"dataframe\">\n",
       "  <thead>\n",
       "    <tr style=\"text-align: right;\">\n",
       "      <th></th>\n",
       "      <th>Holder</th>\n",
       "      <th>Shares</th>\n",
       "      <th>Date Reported</th>\n",
       "      <th>% Out</th>\n",
       "      <th>Value</th>\n",
       "    </tr>\n",
       "  </thead>\n",
       "  <tbody>\n",
       "    <tr>\n",
       "      <th>0</th>\n",
       "      <td>Blackrock Inc.</td>\n",
       "      <td>83527813</td>\n",
       "      <td>2023-03-30</td>\n",
       "      <td>0.1157</td>\n",
       "      <td>861171787</td>\n",
       "    </tr>\n",
       "    <tr>\n",
       "      <th>1</th>\n",
       "      <td>Vanguard Group, Inc. (The)</td>\n",
       "      <td>65787517</td>\n",
       "      <td>2022-12-30</td>\n",
       "      <td>0.0911</td>\n",
       "      <td>678269327</td>\n",
       "    </tr>\n",
       "    <tr>\n",
       "      <th>2</th>\n",
       "      <td>Dimensional Fund Advisors LP</td>\n",
       "      <td>34615576</td>\n",
       "      <td>2023-03-30</td>\n",
       "      <td>0.0479</td>\n",
       "      <td>356886603</td>\n",
       "    </tr>\n",
       "    <tr>\n",
       "      <th>3</th>\n",
       "      <td>State Street Corporation</td>\n",
       "      <td>21897669</td>\n",
       "      <td>2022-12-30</td>\n",
       "      <td>0.0303</td>\n",
       "      <td>225764976</td>\n",
       "    </tr>\n",
       "    <tr>\n",
       "      <th>4</th>\n",
       "      <td>Citadel Advisors Llc</td>\n",
       "      <td>12556354</td>\n",
       "      <td>2022-12-30</td>\n",
       "      <td>0.0174</td>\n",
       "      <td>129456015</td>\n",
       "    </tr>\n",
       "    <tr>\n",
       "      <th>5</th>\n",
       "      <td>Wellington Management Group, LLP</td>\n",
       "      <td>11897587</td>\n",
       "      <td>2023-03-30</td>\n",
       "      <td>0.0165</td>\n",
       "      <td>122664126</td>\n",
       "    </tr>\n",
       "    <tr>\n",
       "      <th>6</th>\n",
       "      <td>Geode Capital Management, LLC</td>\n",
       "      <td>9241347</td>\n",
       "      <td>2022-12-30</td>\n",
       "      <td>0.0128</td>\n",
       "      <td>95278291</td>\n",
       "    </tr>\n",
       "    <tr>\n",
       "      <th>7</th>\n",
       "      <td>Bank Of New York Mellon Corporation</td>\n",
       "      <td>8666855</td>\n",
       "      <td>2023-03-30</td>\n",
       "      <td>0.0120</td>\n",
       "      <td>89355278</td>\n",
       "    </tr>\n",
       "    <tr>\n",
       "      <th>8</th>\n",
       "      <td>Brandywine Global Investment Management, LLC</td>\n",
       "      <td>7932246</td>\n",
       "      <td>2023-03-30</td>\n",
       "      <td>0.0110</td>\n",
       "      <td>81781459</td>\n",
       "    </tr>\n",
       "    <tr>\n",
       "      <th>9</th>\n",
       "      <td>Kahn Brothers Group Inc.</td>\n",
       "      <td>6389144</td>\n",
       "      <td>2023-03-30</td>\n",
       "      <td>0.0088</td>\n",
       "      <td>65872077</td>\n",
       "    </tr>\n",
       "  </tbody>\n",
       "</table>\n",
       "</div>"
      ],
      "text/plain": [
       "                                         Holder    Shares Date Reported   \n",
       "0                                Blackrock Inc.  83527813    2023-03-30  \\\n",
       "1                    Vanguard Group, Inc. (The)  65787517    2022-12-30   \n",
       "2                  Dimensional Fund Advisors LP  34615576    2023-03-30   \n",
       "3                      State Street Corporation  21897669    2022-12-30   \n",
       "4                          Citadel Advisors Llc  12556354    2022-12-30   \n",
       "5              Wellington Management Group, LLP  11897587    2023-03-30   \n",
       "6                 Geode Capital Management, LLC   9241347    2022-12-30   \n",
       "7           Bank Of New York Mellon Corporation   8666855    2023-03-30   \n",
       "8  Brandywine Global Investment Management, LLC   7932246    2023-03-30   \n",
       "9                      Kahn Brothers Group Inc.   6389144    2023-03-30   \n",
       "\n",
       "    % Out      Value  \n",
       "0  0.1157  861171787  \n",
       "1  0.0911  678269327  \n",
       "2  0.0479  356886603  \n",
       "3  0.0303  225764976  \n",
       "4  0.0174  129456015  \n",
       "5  0.0165  122664126  \n",
       "6  0.0128   95278291  \n",
       "7  0.0120   89355278  \n",
       "8  0.0110   81781459  \n",
       "9  0.0088   65872077  "
      ]
     },
     "execution_count": 65,
     "metadata": {},
     "output_type": "execute_result"
    }
   ],
   "source": [
    "nycb.institutional_holders"
   ]
  },
  {
   "cell_type": "code",
   "execution_count": null,
   "id": "residential-layout",
   "metadata": {},
   "outputs": [],
   "source": []
  },
  {
   "cell_type": "code",
   "execution_count": 63,
   "id": "acoustic-burning",
   "metadata": {},
   "outputs": [
    {
     "data": {
      "text/html": [
       "<div>\n",
       "<style scoped>\n",
       "    .dataframe tbody tr th:only-of-type {\n",
       "        vertical-align: middle;\n",
       "    }\n",
       "\n",
       "    .dataframe tbody tr th {\n",
       "        vertical-align: top;\n",
       "    }\n",
       "\n",
       "    .dataframe thead th {\n",
       "        text-align: right;\n",
       "    }\n",
       "</style>\n",
       "<table border=\"1\" class=\"dataframe\">\n",
       "  <thead>\n",
       "    <tr style=\"text-align: right;\">\n",
       "      <th></th>\n",
       "      <th>contractSymbol</th>\n",
       "      <th>lastTradeDate</th>\n",
       "      <th>strike</th>\n",
       "      <th>lastPrice</th>\n",
       "      <th>bid</th>\n",
       "      <th>ask</th>\n",
       "      <th>change</th>\n",
       "      <th>percentChange</th>\n",
       "      <th>volume</th>\n",
       "      <th>openInterest</th>\n",
       "      <th>impliedVolatility</th>\n",
       "      <th>inTheMoney</th>\n",
       "      <th>contractSize</th>\n",
       "      <th>currency</th>\n",
       "    </tr>\n",
       "  </thead>\n",
       "  <tbody>\n",
       "    <tr>\n",
       "      <th>0</th>\n",
       "      <td>NYCB230519C00001000</td>\n",
       "      <td>2023-04-28 17:16:38+00:00</td>\n",
       "      <td>1.0</td>\n",
       "      <td>9.30</td>\n",
       "      <td>9.10</td>\n",
       "      <td>9.40</td>\n",
       "      <td>0.00</td>\n",
       "      <td>0.000000</td>\n",
       "      <td>2</td>\n",
       "      <td>0</td>\n",
       "      <td>12.500002</td>\n",
       "      <td>True</td>\n",
       "      <td>REGULAR</td>\n",
       "      <td>USD</td>\n",
       "    </tr>\n",
       "    <tr>\n",
       "      <th>1</th>\n",
       "      <td>NYCB230519C00004000</td>\n",
       "      <td>2023-03-29 15:40:10+00:00</td>\n",
       "      <td>4.0</td>\n",
       "      <td>5.08</td>\n",
       "      <td>6.60</td>\n",
       "      <td>6.80</td>\n",
       "      <td>0.00</td>\n",
       "      <td>0.000000</td>\n",
       "      <td>4</td>\n",
       "      <td>4</td>\n",
       "      <td>7.578126</td>\n",
       "      <td>True</td>\n",
       "      <td>REGULAR</td>\n",
       "      <td>USD</td>\n",
       "    </tr>\n",
       "    <tr>\n",
       "      <th>2</th>\n",
       "      <td>NYCB230519C00005000</td>\n",
       "      <td>2023-05-04 16:03:57+00:00</td>\n",
       "      <td>5.0</td>\n",
       "      <td>4.35</td>\n",
       "      <td>5.10</td>\n",
       "      <td>5.40</td>\n",
       "      <td>0.00</td>\n",
       "      <td>0.000000</td>\n",
       "      <td>5</td>\n",
       "      <td>3</td>\n",
       "      <td>4.031255</td>\n",
       "      <td>True</td>\n",
       "      <td>REGULAR</td>\n",
       "      <td>USD</td>\n",
       "    </tr>\n",
       "    <tr>\n",
       "      <th>3</th>\n",
       "      <td>NYCB230519C00006000</td>\n",
       "      <td>2023-04-14 13:40:07+00:00</td>\n",
       "      <td>6.0</td>\n",
       "      <td>3.00</td>\n",
       "      <td>4.00</td>\n",
       "      <td>4.20</td>\n",
       "      <td>0.00</td>\n",
       "      <td>0.000000</td>\n",
       "      <td>1</td>\n",
       "      <td>1</td>\n",
       "      <td>0.000010</td>\n",
       "      <td>True</td>\n",
       "      <td>REGULAR</td>\n",
       "      <td>USD</td>\n",
       "    </tr>\n",
       "    <tr>\n",
       "      <th>4</th>\n",
       "      <td>NYCB230519C00007000</td>\n",
       "      <td>2023-05-15 15:25:05+00:00</td>\n",
       "      <td>7.0</td>\n",
       "      <td>3.30</td>\n",
       "      <td>3.10</td>\n",
       "      <td>3.40</td>\n",
       "      <td>0.23</td>\n",
       "      <td>7.491858</td>\n",
       "      <td>5</td>\n",
       "      <td>24</td>\n",
       "      <td>2.390629</td>\n",
       "      <td>True</td>\n",
       "      <td>REGULAR</td>\n",
       "      <td>USD</td>\n",
       "    </tr>\n",
       "    <tr>\n",
       "      <th>5</th>\n",
       "      <td>NYCB230519C00008000</td>\n",
       "      <td>2023-05-15 17:10:00+00:00</td>\n",
       "      <td>8.0</td>\n",
       "      <td>2.35</td>\n",
       "      <td>2.20</td>\n",
       "      <td>2.35</td>\n",
       "      <td>0.10</td>\n",
       "      <td>4.444440</td>\n",
       "      <td>25</td>\n",
       "      <td>440</td>\n",
       "      <td>1.406253</td>\n",
       "      <td>True</td>\n",
       "      <td>REGULAR</td>\n",
       "      <td>USD</td>\n",
       "    </tr>\n",
       "    <tr>\n",
       "      <th>6</th>\n",
       "      <td>NYCB230519C00009000</td>\n",
       "      <td>2023-05-15 19:34:40+00:00</td>\n",
       "      <td>9.0</td>\n",
       "      <td>1.40</td>\n",
       "      <td>1.25</td>\n",
       "      <td>1.35</td>\n",
       "      <td>0.28</td>\n",
       "      <td>24.999996</td>\n",
       "      <td>235</td>\n",
       "      <td>6209</td>\n",
       "      <td>0.859376</td>\n",
       "      <td>True</td>\n",
       "      <td>REGULAR</td>\n",
       "      <td>USD</td>\n",
       "    </tr>\n",
       "    <tr>\n",
       "      <th>7</th>\n",
       "      <td>NYCB230519C00010000</td>\n",
       "      <td>2023-05-15 19:56:54+00:00</td>\n",
       "      <td>10.0</td>\n",
       "      <td>0.37</td>\n",
       "      <td>0.35</td>\n",
       "      <td>0.45</td>\n",
       "      <td>0.10</td>\n",
       "      <td>37.037033</td>\n",
       "      <td>1278</td>\n",
       "      <td>14536</td>\n",
       "      <td>0.562504</td>\n",
       "      <td>True</td>\n",
       "      <td>REGULAR</td>\n",
       "      <td>USD</td>\n",
       "    </tr>\n",
       "    <tr>\n",
       "      <th>8</th>\n",
       "      <td>NYCB230519C00011000</td>\n",
       "      <td>2023-05-15 19:58:23+00:00</td>\n",
       "      <td>11.0</td>\n",
       "      <td>0.04</td>\n",
       "      <td>0.00</td>\n",
       "      <td>0.05</td>\n",
       "      <td>0.01</td>\n",
       "      <td>33.333336</td>\n",
       "      <td>29</td>\n",
       "      <td>2969</td>\n",
       "      <td>0.531255</td>\n",
       "      <td>False</td>\n",
       "      <td>REGULAR</td>\n",
       "      <td>USD</td>\n",
       "    </tr>\n",
       "    <tr>\n",
       "      <th>9</th>\n",
       "      <td>NYCB230519C00012000</td>\n",
       "      <td>2023-05-15 18:05:41+00:00</td>\n",
       "      <td>12.0</td>\n",
       "      <td>0.05</td>\n",
       "      <td>0.00</td>\n",
       "      <td>0.05</td>\n",
       "      <td>0.04</td>\n",
       "      <td>400.000000</td>\n",
       "      <td>4</td>\n",
       "      <td>1143</td>\n",
       "      <td>0.812502</td>\n",
       "      <td>False</td>\n",
       "      <td>REGULAR</td>\n",
       "      <td>USD</td>\n",
       "    </tr>\n",
       "    <tr>\n",
       "      <th>10</th>\n",
       "      <td>NYCB230519C00013000</td>\n",
       "      <td>2023-05-03 15:33:56+00:00</td>\n",
       "      <td>13.0</td>\n",
       "      <td>0.05</td>\n",
       "      <td>0.00</td>\n",
       "      <td>0.05</td>\n",
       "      <td>0.00</td>\n",
       "      <td>0.000000</td>\n",
       "      <td>1</td>\n",
       "      <td>14</td>\n",
       "      <td>1.140629</td>\n",
       "      <td>False</td>\n",
       "      <td>REGULAR</td>\n",
       "      <td>USD</td>\n",
       "    </tr>\n",
       "  </tbody>\n",
       "</table>\n",
       "</div>"
      ],
      "text/plain": [
       "         contractSymbol             lastTradeDate  strike  lastPrice   bid   \n",
       "0   NYCB230519C00001000 2023-04-28 17:16:38+00:00     1.0       9.30  9.10  \\\n",
       "1   NYCB230519C00004000 2023-03-29 15:40:10+00:00     4.0       5.08  6.60   \n",
       "2   NYCB230519C00005000 2023-05-04 16:03:57+00:00     5.0       4.35  5.10   \n",
       "3   NYCB230519C00006000 2023-04-14 13:40:07+00:00     6.0       3.00  4.00   \n",
       "4   NYCB230519C00007000 2023-05-15 15:25:05+00:00     7.0       3.30  3.10   \n",
       "5   NYCB230519C00008000 2023-05-15 17:10:00+00:00     8.0       2.35  2.20   \n",
       "6   NYCB230519C00009000 2023-05-15 19:34:40+00:00     9.0       1.40  1.25   \n",
       "7   NYCB230519C00010000 2023-05-15 19:56:54+00:00    10.0       0.37  0.35   \n",
       "8   NYCB230519C00011000 2023-05-15 19:58:23+00:00    11.0       0.04  0.00   \n",
       "9   NYCB230519C00012000 2023-05-15 18:05:41+00:00    12.0       0.05  0.00   \n",
       "10  NYCB230519C00013000 2023-05-03 15:33:56+00:00    13.0       0.05  0.00   \n",
       "\n",
       "     ask  change  percentChange  volume  openInterest  impliedVolatility   \n",
       "0   9.40    0.00       0.000000       2             0          12.500002  \\\n",
       "1   6.80    0.00       0.000000       4             4           7.578126   \n",
       "2   5.40    0.00       0.000000       5             3           4.031255   \n",
       "3   4.20    0.00       0.000000       1             1           0.000010   \n",
       "4   3.40    0.23       7.491858       5            24           2.390629   \n",
       "5   2.35    0.10       4.444440      25           440           1.406253   \n",
       "6   1.35    0.28      24.999996     235          6209           0.859376   \n",
       "7   0.45    0.10      37.037033    1278         14536           0.562504   \n",
       "8   0.05    0.01      33.333336      29          2969           0.531255   \n",
       "9   0.05    0.04     400.000000       4          1143           0.812502   \n",
       "10  0.05    0.00       0.000000       1            14           1.140629   \n",
       "\n",
       "    inTheMoney contractSize currency  \n",
       "0         True      REGULAR      USD  \n",
       "1         True      REGULAR      USD  \n",
       "2         True      REGULAR      USD  \n",
       "3         True      REGULAR      USD  \n",
       "4         True      REGULAR      USD  \n",
       "5         True      REGULAR      USD  \n",
       "6         True      REGULAR      USD  \n",
       "7         True      REGULAR      USD  \n",
       "8        False      REGULAR      USD  \n",
       "9        False      REGULAR      USD  \n",
       "10       False      REGULAR      USD  "
      ]
     },
     "execution_count": 63,
     "metadata": {},
     "output_type": "execute_result"
    }
   ],
   "source": [
    "# get option chain calls data for specific expiration date\n",
    "opt = nycb.option_chain(date='2023-05-19')\n",
    "opt.calls"
   ]
  },
  {
   "cell_type": "code",
   "execution_count": null,
   "id": "smart-sherman",
   "metadata": {},
   "outputs": [],
   "source": []
  }
 ],
 "metadata": {
  "kernelspec": {
   "display_name": "Python 3",
   "language": "python",
   "name": "python3"
  },
  "language_info": {
   "codemirror_mode": {
    "name": "ipython",
    "version": 3
   },
   "file_extension": ".py",
   "mimetype": "text/x-python",
   "name": "python",
   "nbconvert_exporter": "python",
   "pygments_lexer": "ipython3",
   "version": "3.8.0"
  }
 },
 "nbformat": 4,
 "nbformat_minor": 5
}
